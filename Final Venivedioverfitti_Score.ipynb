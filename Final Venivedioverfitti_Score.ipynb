{
 "cells": [
  {
   "cell_type": "code",
   "execution_count": 2,
   "metadata": {},
   "outputs": [],
   "source": [
    "####\n",
    "#Final submission \n",
    "#Group: Venivedioverfitti\n",
    "#Names: Roma Bakhyshov, Dimitar \n",
    "#Project: Diabetic Retinography image recognition"
   ]
  },
  {
   "cell_type": "code",
   "execution_count": 1,
   "metadata": {
    "ExecuteTime": {
     "end_time": "2018-12-13T13:56:05.056671Z",
     "start_time": "2018-12-13T13:56:04.130180Z"
    }
   },
   "outputs": [],
   "source": [
    "##0 LOAD PACKAGES\n",
    "import pandas as pd\n",
    "import matplotlib.pyplot as plt\n",
    "import numpy as np\n",
    "import os\n",
    "import os.path\n",
    "from PIL import Image\n",
    "import re\n",
    "import shutil\n",
    "import cv2 , glob , numpy , pdb\n",
    "import torch\n",
    "import torchvision\n",
    "from torch.autograd import Variable\n",
    "from torch import nn, ones\n",
    "import torch.nn.functional as F\n",
    "import torch.optim as optim\n",
    "from torchvision import transforms, models\n",
    "from torch.utils.data import Dataset, DataLoader\n",
    "%matplotlib inline"
   ]
  },
  {
   "cell_type": "code",
   "execution_count": 3,
   "metadata": {
    "ExecuteTime": {
     "end_time": "2018-12-13T13:56:06.652446Z",
     "start_time": "2018-12-13T13:56:05.899419Z"
    }
   },
   "outputs": [
    {
     "data": {
      "text/plain": [
       "True"
      ]
     },
     "execution_count": 3,
     "metadata": {},
     "output_type": "execute_result"
    }
   ],
   "source": [
    "# 2 ENGAGE CUUDA WAAARP DRIVEEE\n",
    "device = torch.device(\"cuda:0\")\n",
    "device\n",
    "torch.cuda.is_available()"
   ]
  },
  {
   "cell_type": "code",
   "execution_count": null,
   "metadata": {},
   "outputs": [],
   "source": [
    "##0.21 PRE PROCESSING TRAIN IMAGES## IMAGE AUGMENTATION, ADDS SHARPNESS FOR BETTER DETECTION. (ONLY RUN ONCE)\n",
    "\n",
    "\n",
    "def scalRadius(img,scale):\n",
    "    x = img[int(img.shape[0]/2),:,:].sum(1)\n",
    "    r = (x>x.mean()/10).sum()/2\n",
    "    s = scale*1.0/r\n",
    "    return cv2.resize(img,(0,0),fx=s,fy=s)\n",
    "scale = 300\n",
    "\n",
    "\n",
    "# pdb.set_trace()\n",
    "for f in glob.glob(\"train/*.jpeg\"):# Then do same code for train \n",
    "    a = cv2.imread(f)\n",
    "    a = scalRadius(a,scale)\n",
    "    a = cv2.addWeighted(a,4,cv2.GaussianBlur(a,(0,0),scale/30),-4,128)\n",
    "    b = numpy.zeros(a.shape)\n",
    "    cv2.circle(b,(int(a.shape[1]/2),int(a.shape[0]/2)),int(scale*0.9),(1,1,1),-1,8,0)\n",
    "    a = a*b+128*(1-b)\n",
    "    aa = cv2.resize(a,(224,224))\n",
    "    cv2.imwrite(f,aa)\n",
    "    print(f)"
   ]
  },
  {
   "cell_type": "code",
   "execution_count": null,
   "metadata": {},
   "outputs": [],
   "source": [
    "##0.2 PRE PROCESSING## TEST IMAGES AUGMENTATION, ADDS SHARPNESS FOR BETTER DETECTION. (ONLY RUN ONCE)\n",
    "\n",
    "\n",
    "def scalRadius(img,scale):\n",
    "    x = img[int(img.shape[0]/2),:,:].sum(1)\n",
    "    r = (x>x.mean()/10).sum()/2\n",
    "    s = scale*1.0/r\n",
    "    return cv2.resize(img,(0,0),fx=s,fy=s)\n",
    "scale = 300\n",
    "\n",
    "\n",
    "# pdb.set_trace()\n",
    "for f in glob.glob(\"test/*.jpeg\"):# Then do same code for train \n",
    "    a = cv2.imread(f)\n",
    "    a = scalRadius(a,scale)\n",
    "    a = cv2.addWeighted(a,4,cv2.GaussianBlur(a,(0,0),scale/30),-4,128)\n",
    "    b = numpy.zeros(a.shape)\n",
    "    cv2.circle(b,(int(a.shape[1]/2),int(a.shape[0]/2)),int(scale*0.9),(1,1,1),-1,8,0)\n",
    "    a = a*b+128*(1-b)\n",
    "    aa = cv2.resize(a,(224,224))\n",
    "    cv2.imwrite(f,aa)\n",
    "    print(f)"
   ]
  },
  {
   "cell_type": "code",
   "execution_count": null,
   "metadata": {},
   "outputs": [],
   "source": [
    "## 0.2  IMAGE SORTING INTO MAPS FOR USE WITH IMAGELOADER AND DATALOADER(ONLY RUN ONCE)\n",
    "for i in range(5):\n",
    "    os.makedirs(f'test/{i}')\n",
    "files=pd.read_csv('testlabels.csv')\n",
    "files['level'].value_counts()\n",
    "for index, row in files.iterrows():\n",
    "    source = os.getcwd()+'/test/'+row['image']+'.jpeg'\n",
    "    destination = os.getcwd()+'/test/'+str(row['level'])+'/'+row['image']+'.jpeg'\n",
    "    shutil.move(source,destination)\n",
    "#TRAIN\n",
    "for i in range(5):\n",
    "    os.makedirs(f'train/{i}')\n",
    "files=pd.read_csv('trainlabels.csv')\n",
    "files['level'].value_counts()\n",
    "for index, row in files.iterrows():\n",
    "    source = os.getcwd()+'/train/'+row['image']+'.jpeg'\n",
    "    destination = os.getcwd()+'/train/'+str(row['level'])+'/'+row['image']+'.jpeg'\n",
    "    shutil.move(source,destination)"
   ]
  },
  {
   "cell_type": "code",
   "execution_count": null,
   "metadata": {},
   "outputs": [],
   "source": [
    "#1 PREPARATION OF DATA LOADING \n",
    "###MAKE CLASSES BALANCED FOR TRAINING, SMALLER CLASSES WILL BE SAMPLED RELATIVELY MORE, BIGGER CLASSES LESS.\n",
    "def make_weights_for_balanced_classes(images, nclasses):                        \n",
    "    count = [0] * nclasses                                                      \n",
    "    for item in images:                                                         \n",
    "        count[item[1]] += 1                                                     \n",
    "    weight_per_class = [0.] * nclasses                                      \n",
    "    N = float(sum(count))                                                   \n",
    "    for i in range(nclasses):                                                   \n",
    "        weight_per_class[i] = N/float(count[i])                                 \n",
    "    weight = [0] * len(images)                                              \n",
    "    for idx, val in enumerate(images):                                          \n",
    "        weight[idx] = weight_per_class[val[1]]                                  \n",
    "    return weight              "
   ]
  },
  {
   "cell_type": "code",
   "execution_count": 5,
   "metadata": {
    "ExecuteTime": {
     "end_time": "2018-12-13T13:56:08.297060Z",
     "start_time": "2018-12-13T13:56:08.029750Z"
    }
   },
   "outputs": [],
   "source": [
    "## EXTRA AUGMENTATION AND DATA LOADER CREATION, RAND.ROTATION COMBINED WITH EYES SHOULD THEORETICALLLY GIVE US EXTRA DATA. \n",
    "\n",
    "\n",
    "\n",
    "IMG_SIZE = 224\n",
    "_mean = [0.485, 0.456, 0.406]\n",
    "_std = [0.229, 0.224, 0.225]\n",
    "\n",
    "\n",
    "train_trans = transforms.Compose([\n",
    "    transforms.CenterCrop(IMG_SIZE),\n",
    "    transforms.RandomHorizontalFlip(),\n",
    "    transforms.RandomRotation(360),\n",
    "    #transforms.ColorJitter(.3, .3, .3),\n",
    "    transforms.ToTensor(),\n",
    "    transforms.Normalize(_mean, _std),\n",
    "])\n",
    "val_trans = transforms.Compose([\n",
    "    #transforms.Resize(256),\n",
    "    transforms.CenterCrop(IMG_SIZE),\n",
    "    transforms.ToTensor(),\n",
    "    transforms.Normalize(_mean, _std),\n",
    "])\n",
    "\n",
    "\n",
    "traindir = datasets.ImageFolder(root=\"train/\", transform=train_trans)\n",
    "testdir = datasets.ImageFolder(root=\"valid/\",transform=val_trans)\n",
    "\n",
    "\n",
    "weights = make_weights_for_balanced_classes(traindir.imgs, len(traindir.classes))                                                                \n",
    "weights = torch.DoubleTensor(weights)                                       \n",
    "sampler = torch.utils.data.sampler.WeightedRandomSampler(weights, len(weights))  \n",
    "\n",
    "trainloader = torch.utils.data.DataLoader(traindir, batch_size =100,sampler=sampler, shuffle = False, num_workers = 5)\n",
    "testloader = torch.utils.data.DataLoader(testdir, batch_size =100, shuffle = False, num_workers = 5)"
   ]
  },
  {
   "cell_type": "code",
   "execution_count": 6,
   "metadata": {
    "ExecuteTime": {
     "end_time": "2018-12-13T13:56:14.984210Z",
     "start_time": "2018-12-13T13:56:12.233510Z"
    }
   },
   "outputs": [
    {
     "data": {
      "text/plain": [
       "Net(\n",
       "  (unit1): Package(\n",
       "    (conv): Conv2d(3, 32, kernel_size=(3, 3), stride=(1, 1), padding=(1, 1))\n",
       "    (bn): BatchNorm2d(32, eps=1e-05, momentum=0.1, affine=True, track_running_stats=True)\n",
       "    (relu): ReLU()\n",
       "  )\n",
       "  (pool1): MaxPool2d(kernel_size=3, stride=3, padding=0, dilation=1, ceil_mode=False)\n",
       "  (unit2): Package(\n",
       "    (conv): Conv2d(32, 64, kernel_size=(3, 3), stride=(1, 1), padding=(1, 1))\n",
       "    (bn): BatchNorm2d(64, eps=1e-05, momentum=0.1, affine=True, track_running_stats=True)\n",
       "    (relu): ReLU()\n",
       "  )\n",
       "  (pool2): MaxPool2d(kernel_size=3, stride=3, padding=0, dilation=1, ceil_mode=False)\n",
       "  (unit3): Package(\n",
       "    (conv): Conv2d(64, 128, kernel_size=(3, 3), stride=(1, 1), padding=(1, 1))\n",
       "    (bn): BatchNorm2d(128, eps=1e-05, momentum=0.1, affine=True, track_running_stats=True)\n",
       "    (relu): ReLU()\n",
       "  )\n",
       "  (pool3): MaxPool2d(kernel_size=3, stride=3, padding=0, dilation=1, ceil_mode=False)\n",
       "  (unit4): Package(\n",
       "    (conv): Conv2d(128, 256, kernel_size=(3, 3), stride=(1, 1), padding=(1, 1))\n",
       "    (bn): BatchNorm2d(256, eps=1e-05, momentum=0.1, affine=True, track_running_stats=True)\n",
       "    (relu): ReLU()\n",
       "  )\n",
       "  (avgpool): AvgPool2d(kernel_size=4, stride=4, padding=0)\n",
       "  (net): Sequential(\n",
       "    (0): Package(\n",
       "      (conv): Conv2d(3, 32, kernel_size=(3, 3), stride=(1, 1), padding=(1, 1))\n",
       "      (bn): BatchNorm2d(32, eps=1e-05, momentum=0.1, affine=True, track_running_stats=True)\n",
       "      (relu): ReLU()\n",
       "    )\n",
       "    (1): MaxPool2d(kernel_size=3, stride=3, padding=0, dilation=1, ceil_mode=False)\n",
       "    (2): Package(\n",
       "      (conv): Conv2d(32, 64, kernel_size=(3, 3), stride=(1, 1), padding=(1, 1))\n",
       "      (bn): BatchNorm2d(64, eps=1e-05, momentum=0.1, affine=True, track_running_stats=True)\n",
       "      (relu): ReLU()\n",
       "    )\n",
       "    (3): MaxPool2d(kernel_size=3, stride=3, padding=0, dilation=1, ceil_mode=False)\n",
       "    (4): Package(\n",
       "      (conv): Conv2d(64, 128, kernel_size=(3, 3), stride=(1, 1), padding=(1, 1))\n",
       "      (bn): BatchNorm2d(128, eps=1e-05, momentum=0.1, affine=True, track_running_stats=True)\n",
       "      (relu): ReLU()\n",
       "    )\n",
       "    (5): MaxPool2d(kernel_size=3, stride=3, padding=0, dilation=1, ceil_mode=False)\n",
       "    (6): Package(\n",
       "      (conv): Conv2d(128, 256, kernel_size=(3, 3), stride=(1, 1), padding=(1, 1))\n",
       "      (bn): BatchNorm2d(256, eps=1e-05, momentum=0.1, affine=True, track_running_stats=True)\n",
       "      (relu): ReLU()\n",
       "    )\n",
       "    (7): AvgPool2d(kernel_size=4, stride=4, padding=0)\n",
       "  )\n",
       "  (fc1): Linear(in_features=1024, out_features=224, bias=True)\n",
       "  (relu1): ReLU()\n",
       "  (fc2): Linear(in_features=224, out_features=64, bias=True)\n",
       "  (relu2): ReLU()\n",
       "  (fc3): Linear(in_features=64, out_features=5, bias=True)\n",
       "  (net2): Sequential(\n",
       "    (0): Linear(in_features=1024, out_features=224, bias=True)\n",
       "    (1): ReLU()\n",
       "    (2): Linear(in_features=224, out_features=64, bias=True)\n",
       "    (3): ReLU()\n",
       "    (4): Linear(in_features=64, out_features=5, bias=True)\n",
       "  )\n",
       ")"
      ]
     },
     "execution_count": 6,
     "metadata": {},
     "output_type": "execute_result"
    }
   ],
   "source": [
    "#NEURAL NETWORK DESIGN AND TO DEVICE\n",
    "\n",
    "#Reference 1: https://heartbeat.fritz.ai/basics-of-image-classification-with-pytorch-2f8973c51864\n",
    "#Reference 2: Design Principles of Convolutional Neural Networks for Multimedia Forensics\n",
    "#Reference 3: https://www.quora.com/What-is-the-benefit-of-using-average-pooling-rather-than-max-pooling\n",
    "\n",
    "class Package(nn.Module):\n",
    "    def __init__(self,in_channels,out_channels):\n",
    "        super(Package,self).__init__()\n",
    "        \n",
    "\n",
    "        self.conv = nn.Conv2d(in_channels=in_channels,kernel_size=3,out_channels=out_channels,stride=1,padding=1)\n",
    "        self.bn = nn.BatchNorm2d(num_features=out_channels)\n",
    "        self.relu = nn.ReLU()\n",
    "\n",
    "    def forward(self,input):\n",
    "        output = self.conv(input)\n",
    "        output = self.bn(output)\n",
    "        output = self.relu(output)\n",
    "\n",
    "        return output\n",
    "\n",
    "class Net(nn.Module):\n",
    "    def __init__(self,num_classes=5):\n",
    "        super(Net,self).__init__()\n",
    "        \n",
    "        \n",
    "        self.unit1 = Package(in_channels=3,out_channels=32)\n",
    "        \n",
    "        self.pool1 = nn.MaxPool2d(kernel_size=3)\n",
    "      \n",
    "        self.unit2 = Package(in_channels=32, out_channels=64)\n",
    "\n",
    "        self.pool2 = nn.MaxPool2d(kernel_size=3)\n",
    "\n",
    "        self.unit3 = Package(in_channels=64, out_channels=128)\n",
    "\n",
    "        self.pool3 = nn.MaxPool2d(kernel_size = 3)\n",
    "        \n",
    "        self.unit4 = Package(in_channels=128, out_channels=256)\n",
    "\n",
    "        self.avgpool = nn.AvgPool2d(4,4)\n",
    "        \n",
    "        #Add all the units into the Sequential layer in exact order\n",
    "        self.net = nn.Sequential(self.unit1, self.pool1, self.unit2, self.pool2,self.unit3, self.pool3, self.unit4,\n",
    "                                 self.avgpool)\n",
    "\n",
    "        self.fc1   = nn.Linear(1024,224)\n",
    "        self.relu1 = nn.ReLU()\n",
    "        self.fc2   = nn.Linear(224,64)\n",
    "        self.relu2 = nn.ReLU()\n",
    "        self.fc3   = nn.Linear(64,num_classes)\n",
    "      \n",
    "        self.net2 = nn.Sequential(self.fc1,self.relu1,self.fc2,self.relu2,self.fc3)\n",
    "    \n",
    "    def forward(self, input):\n",
    "        output = self.net(input)\n",
    "        output = output.view(input.size(0),-1)\n",
    "        output = self.net2(output)\n",
    "        return output\n",
    "\n",
    "    #6% accuracy but the plot with loss was nice and 40% on train with 5 epoch, finalloader test is givving 1 and 2\n",
    "\n",
    "net = Net()\n",
    "net.to(device)"
   ]
  },
  {
   "cell_type": "code",
   "execution_count": 7,
   "metadata": {
    "ExecuteTime": {
     "end_time": "2018-12-13T13:56:15.056016Z",
     "start_time": "2018-12-13T13:56:15.049043Z"
    }
   },
   "outputs": [],
   "source": [
    "# CRITERION AND OPTIMIZER SELECTION, COSS ENTROPY BECAUSE CLASSIFICATION PROBLEM AND ADAM AS ITS MOST PREFERRED CURRENT OPTIMIZER\n",
    "import torch.optim as optim\n",
    "\n",
    "criterion = nn.CrossEntropyLoss()\n",
    "optimizer = optim.Adam(params = net.parameters(), lr = 0.002)"
   ]
  },
  {
   "cell_type": "code",
   "execution_count": 8,
   "metadata": {
    "ExecuteTime": {
     "end_time": "2018-12-13T14:40:43.052914Z",
     "start_time": "2018-12-13T13:56:15.329389Z"
    },
    "scrolled": true
   },
   "outputs": [
    {
     "name": "stdout",
     "output_type": "stream",
     "text": [
      "[1,    50] loss: 1.543\n",
      "77.15327644348145\n",
      "[1,   100] loss: 1.443\n",
      "72.16351437568665\n",
      "[1,   150] loss: 1.380\n",
      "68.97727978229523\n",
      "[1,   200] loss: 1.337\n",
      "66.87188673019409\n",
      "[2,    50] loss: 1.906\n",
      "95.30065202713013\n",
      "[2,   100] loss: 1.298\n",
      "64.91218876838684\n",
      "[2,   150] loss: 1.293\n",
      "64.62831544876099\n",
      "[2,   200] loss: 1.270\n",
      "63.51788949966431\n",
      "[3,    50] loss: 1.830\n",
      "91.47575414180756\n",
      "[3,   100] loss: 1.275\n",
      "63.74676954746246\n",
      "[3,   150] loss: 1.281\n",
      "64.0576593875885\n",
      "[3,   200] loss: 1.228\n",
      "61.4168381690979\n",
      "[4,    50] loss: 1.773\n",
      "88.66398990154266\n",
      "[4,   100] loss: 1.229\n",
      "61.43674993515015\n",
      "[4,   150] loss: 1.229\n",
      "61.448262214660645\n",
      "[4,   200] loss: 1.214\n",
      "60.724077224731445\n",
      "[5,    50] loss: 1.748\n",
      "87.38201260566711\n",
      "[5,   100] loss: 1.211\n",
      "60.544674038887024\n",
      "[5,   150] loss: 1.204\n",
      "60.20185208320618\n",
      "[5,   200] loss: 1.190\n",
      "59.50962233543396\n",
      "[6,    50] loss: 1.727\n",
      "86.34258437156677\n",
      "[6,   100] loss: 1.186\n",
      "59.298317551612854\n",
      "[6,   150] loss: 1.180\n",
      "58.98089373111725\n",
      "[6,   200] loss: 1.172\n",
      "58.620786905288696\n",
      "[7,    50] loss: 1.691\n",
      "84.52514207363129\n",
      "[7,   100] loss: 1.140\n",
      "56.9949808716774\n",
      "[7,   150] loss: 1.149\n",
      "57.43279302120209\n",
      "[7,   200] loss: 1.175\n",
      "58.750110149383545\n",
      "[8,    50] loss: 1.646\n",
      "82.31261456012726\n",
      "[8,   100] loss: 1.139\n",
      "56.94114875793457\n",
      "[8,   150] loss: 1.141\n",
      "57.043089747428894\n",
      "[8,   200] loss: 1.141\n",
      "57.039192378520966\n",
      "[9,    50] loss: 1.647\n",
      "82.34422999620438\n",
      "[9,   100] loss: 1.131\n",
      "56.536346077919006\n",
      "[9,   150] loss: 1.117\n",
      "55.857290148735046\n",
      "[9,   200] loss: 1.119\n",
      "55.950484335422516\n",
      "[10,    50] loss: 1.615\n",
      "80.7560721039772\n",
      "[10,   100] loss: 1.104\n",
      "55.17708230018616\n",
      "[10,   150] loss: 1.093\n",
      "54.633683264255524\n",
      "[10,   200] loss: 1.118\n",
      "55.87958604097366\n",
      "[11,    50] loss: 1.566\n",
      "78.30066305398941\n",
      "[11,   100] loss: 1.104\n",
      "55.18988525867462\n",
      "[11,   150] loss: 1.109\n",
      "55.43164485692978\n",
      "[11,   200] loss: 1.104\n",
      "55.209088027477264\n",
      "[12,    50] loss: 1.549\n",
      "77.45209610462189\n",
      "[12,   100] loss: 1.077\n",
      "53.84852147102356\n",
      "[12,   150] loss: 1.054\n",
      "52.69365310668945\n",
      "[12,   200] loss: 1.091\n",
      "54.55066043138504\n",
      "[13,    50] loss: 1.558\n",
      "77.91356098651886\n",
      "[13,   100] loss: 1.080\n",
      "54.00613576173782\n",
      "[13,   150] loss: 1.084\n",
      "54.2086643576622\n",
      "[13,   200] loss: 1.067\n",
      "53.35533660650253\n",
      "[14,    50] loss: 1.543\n",
      "77.13113832473755\n",
      "[14,   100] loss: 1.056\n",
      "52.82256084680557\n",
      "[14,   150] loss: 1.059\n",
      "52.95550888776779\n",
      "[14,   200] loss: 1.045\n",
      "52.25612360239029\n",
      "[15,    50] loss: 1.557\n",
      "77.8317791223526\n",
      "[15,   100] loss: 1.055\n",
      "52.72811782360077\n",
      "[15,   150] loss: 1.038\n",
      "51.89923042058945\n",
      "[15,   200] loss: 1.030\n",
      "51.48524010181427\n",
      "[16,    50] loss: 1.526\n",
      "76.31678169965744\n",
      "[16,   100] loss: 1.036\n",
      "51.813722133636475\n",
      "[16,   150] loss: 1.016\n",
      "50.78950893878937\n",
      "[16,   200] loss: 1.031\n",
      "51.57458031177521\n",
      "[17,    50] loss: 1.491\n",
      "74.57467901706696\n",
      "[17,   100] loss: 1.019\n",
      "50.96508550643921\n",
      "[17,   150] loss: 1.001\n",
      "50.026768267154694\n",
      "[17,   200] loss: 1.004\n",
      "50.2225906252861\n",
      "[18,    50] loss: 1.450\n",
      "72.48062485456467\n",
      "[18,   100] loss: 0.988\n",
      "49.41044348478317\n",
      "[18,   150] loss: 1.001\n",
      "50.0478059053421\n",
      "[18,   200] loss: 0.996\n",
      "49.798222064971924\n",
      "[19,    50] loss: 1.418\n",
      "70.92271810770035\n",
      "[19,   100] loss: 0.997\n",
      "49.86751055717468\n",
      "[19,   150] loss: 0.971\n",
      "48.5561603307724\n",
      "[19,   200] loss: 0.994\n",
      "49.67760980129242\n",
      "[20,    50] loss: 1.411\n",
      "70.57345789670944\n",
      "[20,   100] loss: 0.966\n",
      "48.28994995355606\n",
      "[20,   150] loss: 0.948\n",
      "47.38599079847336\n",
      "[20,   200] loss: 0.961\n",
      "48.05343347787857\n",
      "Finished Training\n"
     ]
    }
   ],
   "source": [
    "lossgraph=[]\n",
    "net.to(device)\n",
    "net.train()\n",
    "#TRAINING NEURAL NET ON CUDA\n",
    "running_loss = 0.0\n",
    "for epoch in range(20):  # loop over the dataset multiple times\n",
    "\n",
    "    for i, data in enumerate(trainloader, 0):\n",
    "        # get the inputs\n",
    "        inputs, labels = data\n",
    "        inputs, labels = inputs.to(device), labels.to(device)\n",
    "\n",
    "        # zero the parameter gradients\n",
    "        optimizer.zero_grad()\n",
    "\n",
    "        # forward + backward + optimize\n",
    "        outputs = net(inputs)\n",
    "        loss = criterion(outputs, labels)\n",
    "        loss.backward()\n",
    "        optimizer.step()\n",
    "\n",
    "        # print statistics\n",
    "        \n",
    "        running_loss += loss.item()\n",
    "        if i % 50 == 49:    # print every 50  mini-batches\n",
    "            print('[%d, %5d] loss: %.3f' %\n",
    "                  (epoch + 1, i + 1, running_loss / 50))\n",
    "            print(running_loss)\n",
    "            lossgraph.append(running_loss)\n",
    "            running_loss = 0.0\n",
    "            \n",
    "\n",
    "            \n",
    "\n",
    "print('Finished Training')"
   ]
  },
  {
   "cell_type": "code",
   "execution_count": 9,
   "metadata": {
    "ExecuteTime": {
     "end_time": "2018-12-13T14:41:00.207004Z",
     "start_time": "2018-12-13T14:40:59.342318Z"
    }
   },
   "outputs": [
    {
     "data": {
      "text/plain": [
       "[<matplotlib.lines.Line2D at 0x25da56dafd0>]"
      ]
     },
     "execution_count": 9,
     "metadata": {},
     "output_type": "execute_result"
    },
    {
     "data": {
      "image/png": "[encoded data removed]",
      "text/plain": [
       "<Figure size 432x288 with 1 Axes>"
      ]
     },
     "metadata": {},
     "output_type": "display_data"
    }
   ],
   "source": [
    "#LOSS PER ITERATIONS VISUALIZATION\n",
    "import seaborn as sns\n",
    "import matplotlib.pyplot as plt\n",
    "%matplotlib inline\n",
    "plt.plot(lossgraph)"
   ]
  },
  {
   "cell_type": "code",
   "execution_count": null,
   "metadata": {},
   "outputs": [],
   "source": [
    "## PREFORMANCE ASSESSMENT ON VALIDATION AND TRAIN DATA ##############################################\n",
    "net.eval()"
   ]
  },
  {
   "cell_type": "code",
   "execution_count": 10,
   "metadata": {
    "ExecuteTime": {
     "end_time": "2018-12-13T14:41:34.341582Z",
     "start_time": "2018-12-13T14:41:15.867097Z"
    }
   },
   "outputs": [
    {
     "name": "stdout",
     "output_type": "stream",
     "text": [
      "Accuracy of the network on the validation(test) images: 60 %\n"
     ]
    }
   ],
   "source": [
    "# ACCURACY TOTAL ON VALIDATION DATASET\n",
    "correct = 0\n",
    "total = 0\n",
    "with torch.no_grad():\n",
    "    for data in testloader:\n",
    "        images, labels = data\n",
    "        images, labels = images.to(device), labels.to(device)\n",
    "        outputs = net(images)\n",
    "        _, predicted = torch.max(outputs.data, 1)\n",
    "        total += labels.size(0)\n",
    "        correct += (predicted == labels).sum().item()\n",
    "\n",
    "print('Accuracy of the network on the validation(test) images: %d %%' % (\n",
    "    100 * correct / total))"
   ]
  },
  {
   "cell_type": "code",
   "execution_count": 11,
   "metadata": {
    "ExecuteTime": {
     "end_time": "2018-12-13T14:42:15.140399Z",
     "start_time": "2018-12-13T14:41:57.358979Z"
    }
   },
   "outputs": [
    {
     "name": "stdout",
     "output_type": "stream",
     "text": [
      "Accuracy of     0 : 62 %\n",
      "Accuracy of     1 : 32 %\n",
      "Accuracy of     2 : 45 %\n",
      "Accuracy of     3 : 30 %\n",
      "Accuracy of     4 : 40 %\n"
     ]
    }
   ],
   "source": [
    "# ACCURACY PER CLASS ON VALIDATION DATASET \n",
    "class_correct = list(0. for i in range(5)) # [0. for i in range(5)]  [0.]*5\n",
    "class_total = list(0. for i in range(5))\n",
    "with torch.no_grad():\n",
    "    for data in testloader:\n",
    "        images, labels = data\n",
    "        images, labels = images.to(device), labels.to(device)\n",
    "        outputs = net(images)\n",
    "        _, predicted = torch.max(outputs, 1)\n",
    "        c = (predicted == labels).squeeze()\n",
    "        for i in range(10): # range(len(c))\n",
    "            label = labels[i]\n",
    "            class_correct[label] += c[i].item()\n",
    "            class_total[label] += 1\n",
    "\n",
    "\n",
    "for i in range(5):\n",
    "    print('Accuracy of %5s : %2d %%' % (\n",
    "        classes[i], 100 * class_correct[i] / class_total[i]))"
   ]
  },
  {
   "cell_type": "code",
   "execution_count": 12,
   "metadata": {
    "ExecuteTime": {
     "end_time": "2018-12-13T14:43:31.602560Z",
     "start_time": "2018-12-13T14:42:36.460346Z"
    }
   },
   "outputs": [
    {
     "name": "stdout",
     "output_type": "stream",
     "text": [
      "Accuracy on the train images: 50 %\n"
     ]
    }
   ],
   "source": [
    "# ACCURACY ON THE TRAIN DATA (FOR OVERFITTING OBSERVATIONS)\n",
    "correct = 0\n",
    "total = 0\n",
    "with torch.no_grad():\n",
    "    for data in trainloader:\n",
    "        images, labels = data\n",
    "        images, labels = images.to(device), labels.to(device)\n",
    "        outputs = net(images)\n",
    "        _, predicted = torch.max(outputs.data, 1)\n",
    "        total += labels.size(0)\n",
    "        correct += (predicted == labels).sum().item()\n",
    "\n",
    "print('Accuracy on the train images: %d %%' % (\n",
    "    100 * correct / total))"
   ]
  },
  {
   "cell_type": "code",
   "execution_count": null,
   "metadata": {},
   "outputs": [],
   "source": [
    "#### FINAL SUBMISSION ON KAGGLE, PREFORMANCE ASSESSMENT ON TEST DATASET ###################################"
   ]
  },
  {
   "cell_type": "code",
   "execution_count": null,
   "metadata": {},
   "outputs": [],
   "source": [
    "## USING TEST IMAGES  AND  RECORDING MODEL OUTPUT MAPPING \n",
    "import re\n",
    "import pandas as pd\n",
    "net.cpu()\n",
    "net.eval()\n",
    "test_data_dir = f'test/0/'\n",
    "test_data_files = os.listdir(test_data_dir)\n",
    "\n",
    "\n",
    "def extract_file_id(fname):\n",
    "    return re.search('^.*(?=(\\.jpeg))', fname).group()\n",
    "\n",
    "def predict(net, image):\n",
    "    batch = torch.stack([image])\n",
    "    output=net(batch)\n",
    "    _,preds=torch.max(output,1)\n",
    "    return preds.item()\n",
    "\n",
    "\n",
    "def test_data_from_fname(fname):\n",
    "    test_data_dir = f'test/0/'\n",
    "    image = Image.open(f'{test_data_dir}/{fname}')\n",
    "    return val_trans(image)\n",
    "\n",
    "\n",
    "EyeIDnPred = {extract_file_id(fname): \n",
    "                  predict(net,\n",
    "test_data_from_fname(fname))\n",
    "                  for fname in test_data_files}"
   ]
  },
  {
   "cell_type": "code",
   "execution_count": 13,
   "metadata": {
    "ExecuteTime": {
     "end_time": "2018-12-13T14:51:03.902402Z",
     "start_time": "2018-12-13T14:43:51.909213Z"
    }
   },
   "outputs": [],
   "source": [
    "###SAVE THE RESULTS OF TEST DATA PREFORMANCE TO CSV\n",
    "\n",
    "ds = pd.Series({id : label for (id, label) in zip(EyeIDnPred.keys(), EyeIDnPred.values())})\n",
    "ds.head()\n",
    "df = pd.DataFrame(ds, columns = ['label']).sort_index()\n",
    "df['id'] = df.index\n",
    "df = df[['id', 'label']]\n",
    "#df[[\"id\",\"label\"]]=[\"image\",\"level\"]\n",
    "df.to_csv(\"submission.csv\", index = False)"
   ]
  },
  {
   "cell_type": "code",
   "execution_count": null,
   "metadata": {},
   "outputs": [],
   "source": [
    "#save the trained model\n",
    "torch.save(net.state_dict(), \"name_of_my_model.pth\")"
   ]
  },
  {
   "cell_type": "code",
   "execution_count": null,
   "metadata": {},
   "outputs": [],
   "source": [
    "#load model\n",
    "net.load_state_dict(torch.load(\"name_of_my_model.pth\"))"
   ]
  },
  {
   "cell_type": "code",
   "execution_count": null,
   "metadata": {},
   "outputs": [],
   "source": [
    "##################################################################################################################################"
   ]
  }
 ],
 "metadata": {
  "kernelspec": {
   "display_name": "Python 3",
   "language": "python",
   "name": "python3"
  },
  "language_info": {
   "codemirror_mode": {
    "name": "ipython",
    "version": 3
   },
   "file_extension": ".py",
   "mimetype": "text/x-python",
   "name": "python",
   "nbconvert_exporter": "python",
   "pygments_lexer": "ipython3",
   "version": "3.6.6"
  },
  "varInspector": {
   "cols": {
    "lenName": 16,
    "lenType": 16,
    "lenVar": 40
   },
   "kernels_config": {
    "python": {
     "delete_cmd_postfix": "",
     "delete_cmd_prefix": "del ",
     "library": "var_list.py",
     "varRefreshCmd": "print(var_dic_list())"
    },
    "r": {
     "delete_cmd_postfix": ") ",
     "delete_cmd_prefix": "rm(",
     "library": "var_list.r",
     "varRefreshCmd": "cat(var_dic_list()) "
    }
   },
   "types_to_exclude": [
    "module",
    "function",
    "builtin_function_or_method",
    "instance",
    "_Feature"
   ],
   "window_display": false
  }
 },
 "nbformat": 4,
 "nbformat_minor": 2
}
